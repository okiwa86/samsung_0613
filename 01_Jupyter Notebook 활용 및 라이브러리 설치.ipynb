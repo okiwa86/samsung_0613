{
 "cells": [
  {
   "cell_type": "markdown",
   "id": "58cc927a",
   "metadata": {},
   "source": [
    "# Jupyter Notebook 활용 및 Python 분석 환경 설정\n",
    "\n",
    "### 주요 내용\n",
    "\n",
    "1. Jupyter notebook의 주요 기능 및 단축키 등 설명\n",
    "2. pip를 활용한 라이브러리 설치\n",
    "\n",
    "<br>\n",
    "\n",
    "### 목표 \n",
    "1. Jupyter Notebook을 활용해서 Python 코드를 작성하고 실행할 수 있다.\n",
    "2. 작업 폴더(working directory)의 개념을 이해한다.\n",
    "3. 라이브러리(library) 활용 목적과 절차를 이해한다.\n",
    "\n",
    "\n",
    "<br>\n",
    "<hr>\n",
    "<br>"
   ]
  },
  {
   "cell_type": "markdown",
   "id": "85eef9b6",
   "metadata": {
    "collapsed": true
   },
   "source": [
    "## 1. Jupyter Notebook 사용법, 기능 및 단축키 소개  \n",
    "\n",
    "\n",
    "jupyter notebook은 여러 cell을 수직적으로 결합해서 문서를 만들거나 분석을 수행  \n",
    "상단 메뉴바와 아이콘을 활용하여 cell을 추가, 제거, 이동, 복사 가능  \n",
    "cell에 명령어를 입력하고 실행해서 결과 확인  \n",
    "\n",
    "### 1.1. Jupyter notebok 주요 단축키 목록\n",
    "\n",
    "\n",
    "* 파란색 : 명령 모드(cell의 추가, 복사, 삭제 등), \"ESC\"\n",
    "  - `H` : 단축키 목록 팝업\n",
    "  - `A` : 위에 cell 추가 \n",
    "  - `B` : 아래에 cell 추가\n",
    "  - `위/아래 화살표` : cell 이동\n",
    "  - `D, D` : cell 삭제\n",
    "  - `M` : cell을 Markdown(문서 작성) 형식으로 변경\n",
    "  - `Y` : cell을 Comde(명령어 작성) 형식으로 변경\n",
    "  - `S`, `Ctrl + S` : 저장\n",
    "  \n",
    "  \n",
    "* 초록색 : 수정 모드(각 cell 안에서 명령어 등 입력), \"ENTER\"\n",
    "  - `Tab` : 들여쓰기 혹은 코드 완성\n",
    "  - `Shift + Tab` : 들여쓰기 취소 혹은 툴팁(도움말)\n",
    "  - `Ctrl + /` : 주석처리/해제\n",
    "\n",
    "* cell 실행 \n",
    "  - `Shift + Enter` : 실행하고 다음 cell로 이동\n",
    "  - `Ctrl + Enter` : 실행\n",
    "  \n",
    "\n",
    "<br>\n",
    "\n",
    "\n",
    "\n"
   ]
  },
  {
   "cell_type": "markdown",
   "id": "9076aeae",
   "metadata": {},
   "source": [
    "\n",
    "<br>\n",
    "\n",
    "## 2. 새 폴더와 새 노트북 파일 만들기\n",
    "\n",
    "jupyter 메인 페이지에서 경로를 이동하거나 새 폴더 생성 가능  \n",
    "jupyter 메인 페이지 및 노트북 내 상단 메뉴 [File] > [New Notebook]에서 새 노트북 파일 생성  \n",
    "  \n",
    "  \n",
    "\n",
    "### 2.1. 간단한 실습  \n",
    "\n",
    "> 새 노트북 파일에서 `A`, `B` 를 눌러 새로운 cell을 추가하고, `M`, `Y`를 눌러 마크다운과 코드로 형식을 바꿔봅시다. `Enter`를 누른 수정모드에서 간단한 수식을 넣고 `Ctrl+Enter`로 실행하고, `Shift+Enter`로 다시 한번 실행한 다음 차이를 확인합니다. 다시 방향키로 위의 cell로 이동한 다음 수정모드에서 `Ctrl+/`를 눌러 작성한 스크립트를 주석 처리하거나 직접 `#`을 써서 주석을 입력해봅시다.  \n",
    "\n",
    "[File] > [Download as]로 다양한 형식으로 노트북을 저장 가능  \n",
    "[Cell] > [All output] > [Clear]로 모든 실행 결과를 지울 수 있음\n"
   ]
  },
  {
   "cell_type": "markdown",
   "id": "90ac77b8",
   "metadata": {},
   "source": [
    "\n",
    "<br>\n",
    "<hr>\n",
    "<br>\n",
    "\n",
    "## 3. pip를 활용한 Library 설치\n",
    "\n",
    "Python을 활용해 데이터를 분석하기 위해서는 pandas와 같은 라이브러리 설치가 필수\n",
    "<span style='color:blue;font-weight:bold'>pip</span> 명령어를 활용해서 라이브러리를 설치 가능  \n",
    "jupyter notebook 안에서 shell command를 실행하기 위해서 <span style='color:purple;font-weight:bold'>!</span>를 앞에 붙임    \n",
    "\n",
    "> 라이브러리를 설치하기 위해서는 외부망 접속이 가능해야하고, 외부망에서 소스 파일을 다운받아 압축을 풀기 위해서는 특정 폴더에 대한 권한도 필요합니다."
   ]
  },
  {
   "cell_type": "code",
   "execution_count": null,
   "id": "e80748ed",
   "metadata": {
    "scrolled": true
   },
   "outputs": [],
   "source": [
    "#!pip install numpy pandas matplotlib seaborn plotly xlrd openpyxl"
   ]
  },
  {
   "cell_type": "markdown",
   "id": "5d3030c2",
   "metadata": {},
   "source": [
    "<br>\n",
    "\n",
    "## 4. Library 설치 확인\n",
    "\n",
    "* 4개 결과 출력여부 확인\n",
    "    - openpyxl\n",
    "    - pandas\n",
    "    - plotly\n",
    "    - seaborn\n",
    "    "
   ]
  },
  {
   "cell_type": "code",
   "execution_count": 2,
   "id": "d3ae205a",
   "metadata": {},
   "outputs": [
    {
     "name": "stdout",
     "output_type": "stream",
     "text": [
      "openpyxl==3.0.10\n",
      "pandas==1.5.3\n",
      "plotly==5.9.0\n",
      "seaborn==0.12.2\n"
     ]
    },
    {
     "name": "stderr",
     "output_type": "stream",
     "text": [
      "WARNING: There was an error checking the latest version of pip.\n"
     ]
    }
   ],
   "source": [
    "# Windows \n",
    "!pip list --format=freeze | findstr /r \"pandas seaborn plotly openpyxl\""
   ]
  },
  {
   "cell_type": "markdown",
   "id": "2b3cd377",
   "metadata": {},
   "source": [
    "## 5. 기본 문법"
   ]
  },
  {
   "cell_type": "markdown",
   "id": "c026fdc6",
   "metadata": {},
   "source": [
    "- 세미콜론: 한줄에 여러 코드를 입력할때 각 코드를 구별한다.\n",
    "- #: 실행 코드가 아닌 설명을 위한 텍스트\n",
    "- 들여쓰기: Tab으로 들여쓰기\n",
    "- 코드블럭: 복수의 명령집합, 들여쓰기를 기준으로 하며 동일 코드블럭은 동일한 들여쓰기를 갖는다."
   ]
  },
  {
   "cell_type": "code",
   "execution_count": 21,
   "id": "8fccb013",
   "metadata": {},
   "outputs": [
    {
     "data": {
      "text/plain": [
       "5"
      ]
     },
     "execution_count": 21,
     "metadata": {},
     "output_type": "execute_result"
    }
   ],
   "source": [
    "# 4 + 1 과 같이 간단한 사칙 연산을 수행해 본다.\\\n",
    "\n",
    "4 + 1\n",
    "5 + 9"
   ]
  },
  {
   "cell_type": "code",
   "execution_count": 22,
   "id": "4f4d737d",
   "metadata": {},
   "outputs": [
    {
     "name": "stdout",
     "output_type": "stream",
     "text": [
      "hello samsung!\n"
     ]
    }
   ],
   "source": [
    "# print(\"hello samsung!\") 명령어를 실행해 본다.\n",
    "print(\"hello samsung!\")"
   ]
  },
  {
   "cell_type": "code",
   "execution_count": 23,
   "id": "050fba29",
   "metadata": {},
   "outputs": [
    {
     "data": {
      "text/plain": [
       "'True'"
      ]
     },
     "execution_count": 23,
     "metadata": {},
     "output_type": "execute_result"
    }
   ],
   "source": [
    "str(True)"
   ]
  }
 ],
 "metadata": {
  "kernelspec": {
   "display_name": "Python 3 (ipykernel)",
   "language": "python",
   "name": "python3"
  },
  "language_info": {
   "codemirror_mode": {
    "name": "ipython",
    "version": 3
   },
   "file_extension": ".py",
   "mimetype": "text/x-python",
   "name": "python",
   "nbconvert_exporter": "python",
   "pygments_lexer": "ipython3",
   "version": "3.10.9"
  }
 },
 "nbformat": 4,
 "nbformat_minor": 5
}
