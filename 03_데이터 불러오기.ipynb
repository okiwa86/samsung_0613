{
 "cells": [
  {
   "cell_type": "markdown",
   "id": "8a6c67e2",
   "metadata": {},
   "source": [
    "# 데이터 불러오기/살펴보기\n",
    "\n",
    "### 주요 내용\n",
    "\n",
    "1. csv, xlsx 파일 불러오기\n",
    "2. 데이터 살펴보기\n",
    "3. DRM 보안 파일 불러오기\n",
    "\n",
    "<br>\n",
    "\n",
    "### 목표 \n",
    "1. 분석에 필요한 데이터를 python으로 불러올 수 있다.\n",
    "2. 데이터의 일부나 특성을 확인할 수 있다. \n",
    "\n",
    "\n",
    "<br>\n",
    "<hr>\n",
    "<br>"
   ]
  },
  {
   "cell_type": "markdown",
   "id": "7e80c404",
   "metadata": {},
   "source": [
    "## 1. 파일 불러와서 살펴보기\n",
    "\n",
    "**pandas** 라이브러리의 *read_csv()* 등의 함수를 활용해서 데이터 불러오기 가능 \n",
    "아래의 표현들을 활용해서 데이터 파일의 경로 지정 필요 \n",
    "\n",
    "* `/` : **root**. Windows에서는 C:\\\n",
    "* `~/` : 사용자 폴더. Windows에서는 C:\\Users\\사용자계정이름\n",
    "* `./` : 현재 작업 폴더(working directory), 별도로 작업하지 않은 경우 생략 가능\n",
    "* `../` : 현재 폴더의 상위 폴더\n",
    "\n",
    "\n",
    "`바탕화면`처럼 익숙한 곳에 새로운 폴더를 만들고, 데이터 파일을 옮겨서 작업하는 것을 추천\n",
    "\n"
   ]
  },
  {
   "cell_type": "code",
   "execution_count": null,
   "id": "f4e68afb",
   "metadata": {},
   "outputs": [],
   "source": [
    "# 현재 작업 폴더 확인\n",
    "    ## print working directory\n",
    "%pwd"
   ]
  },
  {
   "cell_type": "markdown",
   "id": "f1effbcd",
   "metadata": {},
   "source": [
    "<br>\n",
    "\n",
    "### 1.1. CSV 파일 불러오기\n",
    "\n",
    "**pandas** 라이브러리 불러오기 "
   ]
  },
  {
   "cell_type": "code",
   "execution_count": 2,
   "id": "1842e166",
   "metadata": {},
   "outputs": [],
   "source": [
    "import pandas as pd"
   ]
  },
  {
   "cell_type": "code",
   "execution_count": 6,
   "id": "d881a9a0",
   "metadata": {},
   "outputs": [
    {
     "data": {
      "text/html": [
       "<div>\n",
       "<style scoped>\n",
       "    .dataframe tbody tr th:only-of-type {\n",
       "        vertical-align: middle;\n",
       "    }\n",
       "\n",
       "    .dataframe tbody tr th {\n",
       "        vertical-align: top;\n",
       "    }\n",
       "\n",
       "    .dataframe thead th {\n",
       "        text-align: right;\n",
       "    }\n",
       "</style>\n",
       "<table border=\"1\" class=\"dataframe\">\n",
       "  <thead>\n",
       "    <tr style=\"text-align: right;\">\n",
       "      <th></th>\n",
       "      <th>age</th>\n",
       "      <th>sex</th>\n",
       "      <th>bmi</th>\n",
       "      <th>children</th>\n",
       "      <th>smoker</th>\n",
       "      <th>region</th>\n",
       "      <th>charges</th>\n",
       "    </tr>\n",
       "  </thead>\n",
       "  <tbody>\n",
       "    <tr>\n",
       "      <th>0</th>\n",
       "      <td>19</td>\n",
       "      <td>female</td>\n",
       "      <td>27.900</td>\n",
       "      <td>0</td>\n",
       "      <td>yes</td>\n",
       "      <td>southwest</td>\n",
       "      <td>16884.92400</td>\n",
       "    </tr>\n",
       "    <tr>\n",
       "      <th>1</th>\n",
       "      <td>18</td>\n",
       "      <td>male</td>\n",
       "      <td>33.770</td>\n",
       "      <td>1</td>\n",
       "      <td>no</td>\n",
       "      <td>southeast</td>\n",
       "      <td>1725.55230</td>\n",
       "    </tr>\n",
       "    <tr>\n",
       "      <th>2</th>\n",
       "      <td>28</td>\n",
       "      <td>male</td>\n",
       "      <td>33.000</td>\n",
       "      <td>3</td>\n",
       "      <td>no</td>\n",
       "      <td>southeast</td>\n",
       "      <td>4449.46200</td>\n",
       "    </tr>\n",
       "    <tr>\n",
       "      <th>3</th>\n",
       "      <td>33</td>\n",
       "      <td>male</td>\n",
       "      <td>22.705</td>\n",
       "      <td>0</td>\n",
       "      <td>no</td>\n",
       "      <td>northwest</td>\n",
       "      <td>21984.47061</td>\n",
       "    </tr>\n",
       "    <tr>\n",
       "      <th>4</th>\n",
       "      <td>32</td>\n",
       "      <td>male</td>\n",
       "      <td>28.880</td>\n",
       "      <td>0</td>\n",
       "      <td>no</td>\n",
       "      <td>northwest</td>\n",
       "      <td>3866.85520</td>\n",
       "    </tr>\n",
       "    <tr>\n",
       "      <th>...</th>\n",
       "      <td>...</td>\n",
       "      <td>...</td>\n",
       "      <td>...</td>\n",
       "      <td>...</td>\n",
       "      <td>...</td>\n",
       "      <td>...</td>\n",
       "      <td>...</td>\n",
       "    </tr>\n",
       "    <tr>\n",
       "      <th>1333</th>\n",
       "      <td>50</td>\n",
       "      <td>male</td>\n",
       "      <td>30.970</td>\n",
       "      <td>3</td>\n",
       "      <td>no</td>\n",
       "      <td>northwest</td>\n",
       "      <td>10600.54830</td>\n",
       "    </tr>\n",
       "    <tr>\n",
       "      <th>1334</th>\n",
       "      <td>18</td>\n",
       "      <td>female</td>\n",
       "      <td>31.920</td>\n",
       "      <td>0</td>\n",
       "      <td>no</td>\n",
       "      <td>northeast</td>\n",
       "      <td>2205.98080</td>\n",
       "    </tr>\n",
       "    <tr>\n",
       "      <th>1335</th>\n",
       "      <td>18</td>\n",
       "      <td>female</td>\n",
       "      <td>36.850</td>\n",
       "      <td>0</td>\n",
       "      <td>no</td>\n",
       "      <td>southeast</td>\n",
       "      <td>1629.83350</td>\n",
       "    </tr>\n",
       "    <tr>\n",
       "      <th>1336</th>\n",
       "      <td>21</td>\n",
       "      <td>female</td>\n",
       "      <td>25.800</td>\n",
       "      <td>0</td>\n",
       "      <td>no</td>\n",
       "      <td>southwest</td>\n",
       "      <td>2007.94500</td>\n",
       "    </tr>\n",
       "    <tr>\n",
       "      <th>1337</th>\n",
       "      <td>61</td>\n",
       "      <td>female</td>\n",
       "      <td>29.070</td>\n",
       "      <td>0</td>\n",
       "      <td>yes</td>\n",
       "      <td>northwest</td>\n",
       "      <td>29141.36030</td>\n",
       "    </tr>\n",
       "  </tbody>\n",
       "</table>\n",
       "<p>1338 rows × 7 columns</p>\n",
       "</div>"
      ],
      "text/plain": [
       "      age     sex     bmi  children smoker     region      charges\n",
       "0      19  female  27.900         0    yes  southwest  16884.92400\n",
       "1      18    male  33.770         1     no  southeast   1725.55230\n",
       "2      28    male  33.000         3     no  southeast   4449.46200\n",
       "3      33    male  22.705         0     no  northwest  21984.47061\n",
       "4      32    male  28.880         0     no  northwest   3866.85520\n",
       "...   ...     ...     ...       ...    ...        ...          ...\n",
       "1333   50    male  30.970         3     no  northwest  10600.54830\n",
       "1334   18  female  31.920         0     no  northeast   2205.98080\n",
       "1335   18  female  36.850         0     no  southeast   1629.83350\n",
       "1336   21  female  25.800         0     no  southwest   2007.94500\n",
       "1337   61  female  29.070         0    yes  northwest  29141.36030\n",
       "\n",
       "[1338 rows x 7 columns]"
      ]
     },
     "metadata": {},
     "output_type": "display_data"
    }
   ],
   "source": [
    "# pandas의 read_csv( ) 활용\n",
    "df_ins = pd.read_csv(\"./data/insurance.csv\")\n",
    "df_ins = pd.read_csv(\"data/insurance.csv\")\n",
    "display(df_ins)\n",
    "    ## 경로가 중요! \n",
    "    ## ./ : ipynb 노트북 파일 폴더\n",
    "    ## ./ 생략 가능\n",
    "    ## Tab으로 자동 완성 기능 활용 가능 "
   ]
  },
  {
   "cell_type": "code",
   "execution_count": null,
   "id": "a2756fb6",
   "metadata": {},
   "outputs": [],
   "source": [
    "# 타입 확인\n",
    "type(df_ins)\n",
    "    ## \"DataFrame\""
   ]
  },
  {
   "cell_type": "code",
   "execution_count": 12,
   "id": "07e0a816",
   "metadata": {},
   "outputs": [
    {
     "data": {
      "text/plain": [
       "0       19\n",
       "1       18\n",
       "2       28\n",
       "3       33\n",
       "4       32\n",
       "        ..\n",
       "1333    50\n",
       "1334    18\n",
       "1335    18\n",
       "1336    21\n",
       "1337    61\n",
       "Name: age, Length: 1338, dtype: int64"
      ]
     },
     "execution_count": 12,
     "metadata": {},
     "output_type": "execute_result"
    }
   ],
   "source": [
    "# 메서드의 확인(마침표 뒤에서 Tab 누르기)\n",
    "df_ins['age']"
   ]
  },
  {
   "cell_type": "markdown",
   "id": "76e7833b",
   "metadata": {},
   "source": [
    "<br>\n",
    "\n",
    "### 1.2. 데이터 살펴보기\n"
   ]
  },
  {
   "cell_type": "code",
   "execution_count": 13,
   "id": "723139a9",
   "metadata": {},
   "outputs": [
    {
     "data": {
      "text/html": [
       "<div>\n",
       "<style scoped>\n",
       "    .dataframe tbody tr th:only-of-type {\n",
       "        vertical-align: middle;\n",
       "    }\n",
       "\n",
       "    .dataframe tbody tr th {\n",
       "        vertical-align: top;\n",
       "    }\n",
       "\n",
       "    .dataframe thead th {\n",
       "        text-align: right;\n",
       "    }\n",
       "</style>\n",
       "<table border=\"1\" class=\"dataframe\">\n",
       "  <thead>\n",
       "    <tr style=\"text-align: right;\">\n",
       "      <th></th>\n",
       "      <th>age</th>\n",
       "      <th>sex</th>\n",
       "      <th>bmi</th>\n",
       "      <th>children</th>\n",
       "      <th>smoker</th>\n",
       "      <th>region</th>\n",
       "      <th>charges</th>\n",
       "    </tr>\n",
       "  </thead>\n",
       "  <tbody>\n",
       "    <tr>\n",
       "      <th>0</th>\n",
       "      <td>19</td>\n",
       "      <td>female</td>\n",
       "      <td>27.90</td>\n",
       "      <td>0</td>\n",
       "      <td>yes</td>\n",
       "      <td>southwest</td>\n",
       "      <td>16884.9240</td>\n",
       "    </tr>\n",
       "    <tr>\n",
       "      <th>1</th>\n",
       "      <td>18</td>\n",
       "      <td>male</td>\n",
       "      <td>33.77</td>\n",
       "      <td>1</td>\n",
       "      <td>no</td>\n",
       "      <td>southeast</td>\n",
       "      <td>1725.5523</td>\n",
       "    </tr>\n",
       "  </tbody>\n",
       "</table>\n",
       "</div>"
      ],
      "text/plain": [
       "   age     sex    bmi  children smoker     region     charges\n",
       "0   19  female  27.90         0    yes  southwest  16884.9240\n",
       "1   18    male  33.77         1     no  southeast   1725.5523"
      ]
     },
     "execution_count": 13,
     "metadata": {},
     "output_type": "execute_result"
    }
   ],
   "source": [
    "# head( )로 앞 몇개 관측치 확인\n",
    "df_ins.head(n=2)"
   ]
  },
  {
   "cell_type": "code",
   "execution_count": null,
   "id": "61e23b19",
   "metadata": {},
   "outputs": [],
   "source": [
    "# tail( )로 끝 몇 개 관측치 확인\n",
    "df_ins.tail(n=3)"
   ]
  },
  {
   "cell_type": "code",
   "execution_count": 14,
   "id": "656a369d",
   "metadata": {},
   "outputs": [
    {
     "data": {
      "text/plain": [
       "(1338, 7)"
      ]
     },
     "execution_count": 14,
     "metadata": {},
     "output_type": "execute_result"
    }
   ],
   "source": [
    "# 관측치/ 변수 개수 확인\n",
    "df_ins.shape"
   ]
  },
  {
   "cell_type": "code",
   "execution_count": null,
   "id": "d7389977",
   "metadata": {},
   "outputs": [],
   "source": [
    "# 관측치 개수만 확인\n",
    "df_ins.shape[0]"
   ]
  },
  {
   "cell_type": "code",
   "execution_count": 15,
   "id": "0298f21e",
   "metadata": {},
   "outputs": [
    {
     "data": {
      "text/plain": [
       "RangeIndex(start=0, stop=1338, step=1)"
      ]
     },
     "execution_count": 15,
     "metadata": {},
     "output_type": "execute_result"
    }
   ],
   "source": [
    "# index(행 이름) 확인\n",
    "df_ins.index"
   ]
  },
  {
   "cell_type": "code",
   "execution_count": 16,
   "id": "0fd13fa2",
   "metadata": {},
   "outputs": [
    {
     "data": {
      "text/plain": [
       "Index(['age', 'sex', 'bmi', 'children', 'smoker', 'region', 'charges'], dtype='object')"
      ]
     },
     "execution_count": 16,
     "metadata": {},
     "output_type": "execute_result"
    }
   ],
   "source": [
    "# columns(변수 이름) 확인\n",
    "df_ins.columns"
   ]
  },
  {
   "cell_type": "code",
   "execution_count": 17,
   "id": "8505cfa2",
   "metadata": {},
   "outputs": [
    {
     "data": {
      "text/plain": [
       "age           int64\n",
       "sex          object\n",
       "bmi         float64\n",
       "children      int64\n",
       "smoker       object\n",
       "region       object\n",
       "charges     float64\n",
       "dtype: object"
      ]
     },
     "execution_count": 17,
     "metadata": {},
     "output_type": "execute_result"
    }
   ],
   "source": [
    "# 변수 형식 확인\n",
    "df_ins.dtypes"
   ]
  },
  {
   "cell_type": "markdown",
   "id": "574eabe7",
   "metadata": {},
   "source": [
    "<br>\n",
    "\n",
    "#### [실습] data 폴더의 PulseRates.csv를 불러와서 df_pr로 저장하기\n",
    "\n",
    "이후 자유롭게 데이터 탐색하기"
   ]
  },
  {
   "cell_type": "code",
   "execution_count": null,
   "id": "174d3b09",
   "metadata": {},
   "outputs": [],
   "source": []
  },
  {
   "cell_type": "code",
   "execution_count": null,
   "id": "12708561",
   "metadata": {},
   "outputs": [],
   "source": []
  },
  {
   "cell_type": "code",
   "execution_count": null,
   "id": "da9459ee",
   "metadata": {},
   "outputs": [],
   "source": []
  },
  {
   "cell_type": "markdown",
   "id": "19c4e641",
   "metadata": {},
   "source": [
    "#### [참고] Encoding 지정 및 index, header 지정"
   ]
  },
  {
   "cell_type": "code",
   "execution_count": 19,
   "id": "ad167ad0",
   "metadata": {},
   "outputs": [
    {
     "ename": "UnicodeDecodeError",
     "evalue": "'utf-8' codec can't decode byte 0xbc in position 1: invalid start byte",
     "output_type": "error",
     "traceback": [
      "\u001b[1;31m---------------------------------------------------------------------------\u001b[0m",
      "\u001b[1;31mUnicodeDecodeError\u001b[0m                        Traceback (most recent call last)",
      "Cell \u001b[1;32mIn[19], line 3\u001b[0m\n\u001b[0;32m      1\u001b[0m \u001b[38;5;66;03m# 인코딩(글자 저장 방법) 오류 발생\u001b[39;00m\n\u001b[0;32m      2\u001b[0m     \u001b[38;5;66;03m## UnicodeDecodeError  'utf-8' codec can't decode byte 0xbc in position 1: invalid start byte\u001b[39;00m\n\u001b[1;32m----> 3\u001b[0m \u001b[43mpd\u001b[49m\u001b[38;5;241;43m.\u001b[39;49m\u001b[43mread_csv\u001b[49m\u001b[43m(\u001b[49m\u001b[38;5;124;43m'\u001b[39;49m\u001b[38;5;124;43mdata/고용지표_20221115084415.csv\u001b[39;49m\u001b[38;5;124;43m'\u001b[39;49m\u001b[43m)\u001b[49m\n",
      "File \u001b[1;32mC:\\ProgramData\\anaconda3\\lib\\site-packages\\pandas\\util\\_decorators.py:211\u001b[0m, in \u001b[0;36mdeprecate_kwarg.<locals>._deprecate_kwarg.<locals>.wrapper\u001b[1;34m(*args, **kwargs)\u001b[0m\n\u001b[0;32m    209\u001b[0m     \u001b[38;5;28;01melse\u001b[39;00m:\n\u001b[0;32m    210\u001b[0m         kwargs[new_arg_name] \u001b[38;5;241m=\u001b[39m new_arg_value\n\u001b[1;32m--> 211\u001b[0m \u001b[38;5;28;01mreturn\u001b[39;00m func(\u001b[38;5;241m*\u001b[39margs, \u001b[38;5;241m*\u001b[39m\u001b[38;5;241m*\u001b[39mkwargs)\n",
      "File \u001b[1;32mC:\\ProgramData\\anaconda3\\lib\\site-packages\\pandas\\util\\_decorators.py:331\u001b[0m, in \u001b[0;36mdeprecate_nonkeyword_arguments.<locals>.decorate.<locals>.wrapper\u001b[1;34m(*args, **kwargs)\u001b[0m\n\u001b[0;32m    325\u001b[0m \u001b[38;5;28;01mif\u001b[39;00m \u001b[38;5;28mlen\u001b[39m(args) \u001b[38;5;241m>\u001b[39m num_allow_args:\n\u001b[0;32m    326\u001b[0m     warnings\u001b[38;5;241m.\u001b[39mwarn(\n\u001b[0;32m    327\u001b[0m         msg\u001b[38;5;241m.\u001b[39mformat(arguments\u001b[38;5;241m=\u001b[39m_format_argument_list(allow_args)),\n\u001b[0;32m    328\u001b[0m         \u001b[38;5;167;01mFutureWarning\u001b[39;00m,\n\u001b[0;32m    329\u001b[0m         stacklevel\u001b[38;5;241m=\u001b[39mfind_stack_level(),\n\u001b[0;32m    330\u001b[0m     )\n\u001b[1;32m--> 331\u001b[0m \u001b[38;5;28;01mreturn\u001b[39;00m func(\u001b[38;5;241m*\u001b[39margs, \u001b[38;5;241m*\u001b[39m\u001b[38;5;241m*\u001b[39mkwargs)\n",
      "File \u001b[1;32mC:\\ProgramData\\anaconda3\\lib\\site-packages\\pandas\\io\\parsers\\readers.py:950\u001b[0m, in \u001b[0;36mread_csv\u001b[1;34m(filepath_or_buffer, sep, delimiter, header, names, index_col, usecols, squeeze, prefix, mangle_dupe_cols, dtype, engine, converters, true_values, false_values, skipinitialspace, skiprows, skipfooter, nrows, na_values, keep_default_na, na_filter, verbose, skip_blank_lines, parse_dates, infer_datetime_format, keep_date_col, date_parser, dayfirst, cache_dates, iterator, chunksize, compression, thousands, decimal, lineterminator, quotechar, quoting, doublequote, escapechar, comment, encoding, encoding_errors, dialect, error_bad_lines, warn_bad_lines, on_bad_lines, delim_whitespace, low_memory, memory_map, float_precision, storage_options)\u001b[0m\n\u001b[0;32m    935\u001b[0m kwds_defaults \u001b[38;5;241m=\u001b[39m _refine_defaults_read(\n\u001b[0;32m    936\u001b[0m     dialect,\n\u001b[0;32m    937\u001b[0m     delimiter,\n\u001b[1;32m   (...)\u001b[0m\n\u001b[0;32m    946\u001b[0m     defaults\u001b[38;5;241m=\u001b[39m{\u001b[38;5;124m\"\u001b[39m\u001b[38;5;124mdelimiter\u001b[39m\u001b[38;5;124m\"\u001b[39m: \u001b[38;5;124m\"\u001b[39m\u001b[38;5;124m,\u001b[39m\u001b[38;5;124m\"\u001b[39m},\n\u001b[0;32m    947\u001b[0m )\n\u001b[0;32m    948\u001b[0m kwds\u001b[38;5;241m.\u001b[39mupdate(kwds_defaults)\n\u001b[1;32m--> 950\u001b[0m \u001b[38;5;28;01mreturn\u001b[39;00m \u001b[43m_read\u001b[49m\u001b[43m(\u001b[49m\u001b[43mfilepath_or_buffer\u001b[49m\u001b[43m,\u001b[49m\u001b[43m \u001b[49m\u001b[43mkwds\u001b[49m\u001b[43m)\u001b[49m\n",
      "File \u001b[1;32mC:\\ProgramData\\anaconda3\\lib\\site-packages\\pandas\\io\\parsers\\readers.py:605\u001b[0m, in \u001b[0;36m_read\u001b[1;34m(filepath_or_buffer, kwds)\u001b[0m\n\u001b[0;32m    602\u001b[0m _validate_names(kwds\u001b[38;5;241m.\u001b[39mget(\u001b[38;5;124m\"\u001b[39m\u001b[38;5;124mnames\u001b[39m\u001b[38;5;124m\"\u001b[39m, \u001b[38;5;28;01mNone\u001b[39;00m))\n\u001b[0;32m    604\u001b[0m \u001b[38;5;66;03m# Create the parser.\u001b[39;00m\n\u001b[1;32m--> 605\u001b[0m parser \u001b[38;5;241m=\u001b[39m TextFileReader(filepath_or_buffer, \u001b[38;5;241m*\u001b[39m\u001b[38;5;241m*\u001b[39mkwds)\n\u001b[0;32m    607\u001b[0m \u001b[38;5;28;01mif\u001b[39;00m chunksize \u001b[38;5;129;01mor\u001b[39;00m iterator:\n\u001b[0;32m    608\u001b[0m     \u001b[38;5;28;01mreturn\u001b[39;00m parser\n",
      "File \u001b[1;32mC:\\ProgramData\\anaconda3\\lib\\site-packages\\pandas\\io\\parsers\\readers.py:1442\u001b[0m, in \u001b[0;36mTextFileReader.__init__\u001b[1;34m(self, f, engine, **kwds)\u001b[0m\n\u001b[0;32m   1439\u001b[0m     \u001b[38;5;28mself\u001b[39m\u001b[38;5;241m.\u001b[39moptions[\u001b[38;5;124m\"\u001b[39m\u001b[38;5;124mhas_index_names\u001b[39m\u001b[38;5;124m\"\u001b[39m] \u001b[38;5;241m=\u001b[39m kwds[\u001b[38;5;124m\"\u001b[39m\u001b[38;5;124mhas_index_names\u001b[39m\u001b[38;5;124m\"\u001b[39m]\n\u001b[0;32m   1441\u001b[0m \u001b[38;5;28mself\u001b[39m\u001b[38;5;241m.\u001b[39mhandles: IOHandles \u001b[38;5;241m|\u001b[39m \u001b[38;5;28;01mNone\u001b[39;00m \u001b[38;5;241m=\u001b[39m \u001b[38;5;28;01mNone\u001b[39;00m\n\u001b[1;32m-> 1442\u001b[0m \u001b[38;5;28mself\u001b[39m\u001b[38;5;241m.\u001b[39m_engine \u001b[38;5;241m=\u001b[39m \u001b[38;5;28;43mself\u001b[39;49m\u001b[38;5;241;43m.\u001b[39;49m\u001b[43m_make_engine\u001b[49m\u001b[43m(\u001b[49m\u001b[43mf\u001b[49m\u001b[43m,\u001b[49m\u001b[43m \u001b[49m\u001b[38;5;28;43mself\u001b[39;49m\u001b[38;5;241;43m.\u001b[39;49m\u001b[43mengine\u001b[49m\u001b[43m)\u001b[49m\n",
      "File \u001b[1;32mC:\\ProgramData\\anaconda3\\lib\\site-packages\\pandas\\io\\parsers\\readers.py:1753\u001b[0m, in \u001b[0;36mTextFileReader._make_engine\u001b[1;34m(self, f, engine)\u001b[0m\n\u001b[0;32m   1750\u001b[0m     \u001b[38;5;28;01mraise\u001b[39;00m \u001b[38;5;167;01mValueError\u001b[39;00m(msg)\n\u001b[0;32m   1752\u001b[0m \u001b[38;5;28;01mtry\u001b[39;00m:\n\u001b[1;32m-> 1753\u001b[0m     \u001b[38;5;28;01mreturn\u001b[39;00m mapping[engine](f, \u001b[38;5;241m*\u001b[39m\u001b[38;5;241m*\u001b[39m\u001b[38;5;28mself\u001b[39m\u001b[38;5;241m.\u001b[39moptions)\n\u001b[0;32m   1754\u001b[0m \u001b[38;5;28;01mexcept\u001b[39;00m \u001b[38;5;167;01mException\u001b[39;00m:\n\u001b[0;32m   1755\u001b[0m     \u001b[38;5;28;01mif\u001b[39;00m \u001b[38;5;28mself\u001b[39m\u001b[38;5;241m.\u001b[39mhandles \u001b[38;5;129;01mis\u001b[39;00m \u001b[38;5;129;01mnot\u001b[39;00m \u001b[38;5;28;01mNone\u001b[39;00m:\n",
      "File \u001b[1;32mC:\\ProgramData\\anaconda3\\lib\\site-packages\\pandas\\io\\parsers\\c_parser_wrapper.py:79\u001b[0m, in \u001b[0;36mCParserWrapper.__init__\u001b[1;34m(self, src, **kwds)\u001b[0m\n\u001b[0;32m     76\u001b[0m     kwds\u001b[38;5;241m.\u001b[39mpop(key, \u001b[38;5;28;01mNone\u001b[39;00m)\n\u001b[0;32m     78\u001b[0m kwds[\u001b[38;5;124m\"\u001b[39m\u001b[38;5;124mdtype\u001b[39m\u001b[38;5;124m\"\u001b[39m] \u001b[38;5;241m=\u001b[39m ensure_dtype_objs(kwds\u001b[38;5;241m.\u001b[39mget(\u001b[38;5;124m\"\u001b[39m\u001b[38;5;124mdtype\u001b[39m\u001b[38;5;124m\"\u001b[39m, \u001b[38;5;28;01mNone\u001b[39;00m))\n\u001b[1;32m---> 79\u001b[0m \u001b[38;5;28mself\u001b[39m\u001b[38;5;241m.\u001b[39m_reader \u001b[38;5;241m=\u001b[39m parsers\u001b[38;5;241m.\u001b[39mTextReader(src, \u001b[38;5;241m*\u001b[39m\u001b[38;5;241m*\u001b[39mkwds)\n\u001b[0;32m     81\u001b[0m \u001b[38;5;28mself\u001b[39m\u001b[38;5;241m.\u001b[39munnamed_cols \u001b[38;5;241m=\u001b[39m \u001b[38;5;28mself\u001b[39m\u001b[38;5;241m.\u001b[39m_reader\u001b[38;5;241m.\u001b[39munnamed_cols\n\u001b[0;32m     83\u001b[0m \u001b[38;5;66;03m# error: Cannot determine type of 'names'\u001b[39;00m\n",
      "File \u001b[1;32mC:\\ProgramData\\anaconda3\\lib\\site-packages\\pandas\\_libs\\parsers.pyx:547\u001b[0m, in \u001b[0;36mpandas._libs.parsers.TextReader.__cinit__\u001b[1;34m()\u001b[0m\n",
      "File \u001b[1;32mC:\\ProgramData\\anaconda3\\lib\\site-packages\\pandas\\_libs\\parsers.pyx:636\u001b[0m, in \u001b[0;36mpandas._libs.parsers.TextReader._get_header\u001b[1;34m()\u001b[0m\n",
      "File \u001b[1;32mC:\\ProgramData\\anaconda3\\lib\\site-packages\\pandas\\_libs\\parsers.pyx:852\u001b[0m, in \u001b[0;36mpandas._libs.parsers.TextReader._tokenize_rows\u001b[1;34m()\u001b[0m\n",
      "File \u001b[1;32mC:\\ProgramData\\anaconda3\\lib\\site-packages\\pandas\\_libs\\parsers.pyx:1965\u001b[0m, in \u001b[0;36mpandas._libs.parsers.raise_parser_error\u001b[1;34m()\u001b[0m\n",
      "\u001b[1;31mUnicodeDecodeError\u001b[0m: 'utf-8' codec can't decode byte 0xbc in position 1: invalid start byte"
     ]
    }
   ],
   "source": [
    "# 인코딩(글자 저장 방법) 오류 발생\n",
    "    ## UnicodeDecodeError  'utf-8' codec can't decode byte 0xbc in position 1: invalid start byte\n",
    "pd.read_csv('data/고용지표_20221115084415.csv')"
   ]
  },
  {
   "cell_type": "code",
   "execution_count": 20,
   "id": "00b4666d",
   "metadata": {},
   "outputs": [
    {
     "data": {
      "text/html": [
       "<div>\n",
       "<style scoped>\n",
       "    .dataframe tbody tr th:only-of-type {\n",
       "        vertical-align: middle;\n",
       "    }\n",
       "\n",
       "    .dataframe tbody tr th {\n",
       "        vertical-align: top;\n",
       "    }\n",
       "\n",
       "    .dataframe thead th {\n",
       "        text-align: right;\n",
       "    }\n",
       "</style>\n",
       "<table border=\"1\" class=\"dataframe\">\n",
       "  <thead>\n",
       "    <tr style=\"text-align: right;\">\n",
       "      <th></th>\n",
       "      <th>성별(1)</th>\n",
       "      <th>2021. 08</th>\n",
       "      <th>2021. 08.1</th>\n",
       "      <th>2021. 08.2</th>\n",
       "      <th>2021. 09</th>\n",
       "      <th>2021. 09.1</th>\n",
       "      <th>2021. 09.2</th>\n",
       "      <th>2021. 10</th>\n",
       "      <th>2021. 10.1</th>\n",
       "      <th>2021. 10.2</th>\n",
       "      <th>...</th>\n",
       "      <th>2022. 04.2</th>\n",
       "      <th>2022. 05</th>\n",
       "      <th>2022. 05.1</th>\n",
       "      <th>2022. 05.2</th>\n",
       "      <th>2022. 06</th>\n",
       "      <th>2022. 06.1</th>\n",
       "      <th>2022. 06.2</th>\n",
       "      <th>2022. 07</th>\n",
       "      <th>2022. 07.1</th>\n",
       "      <th>2022. 07.2</th>\n",
       "    </tr>\n",
       "  </thead>\n",
       "  <tbody>\n",
       "    <tr>\n",
       "      <th>0</th>\n",
       "      <td>성별(1)</td>\n",
       "      <td>경제활동참가율</td>\n",
       "      <td>실업률</td>\n",
       "      <td>고용률</td>\n",
       "      <td>경제활동참가율</td>\n",
       "      <td>실업률</td>\n",
       "      <td>고용률</td>\n",
       "      <td>경제활동참가율</td>\n",
       "      <td>실업률</td>\n",
       "      <td>고용률</td>\n",
       "      <td>...</td>\n",
       "      <td>고용률</td>\n",
       "      <td>경제활동참가율</td>\n",
       "      <td>실업률</td>\n",
       "      <td>고용률</td>\n",
       "      <td>경제활동참가율</td>\n",
       "      <td>실업률</td>\n",
       "      <td>고용률</td>\n",
       "      <td>경제활동참가율</td>\n",
       "      <td>실업률</td>\n",
       "      <td>고용률</td>\n",
       "    </tr>\n",
       "    <tr>\n",
       "      <th>1</th>\n",
       "      <td>합계</td>\n",
       "      <td>61.7</td>\n",
       "      <td>4.0</td>\n",
       "      <td>59.2</td>\n",
       "      <td>61.9</td>\n",
       "      <td>3.6</td>\n",
       "      <td>59.7</td>\n",
       "      <td>62.1</td>\n",
       "      <td>4.2</td>\n",
       "      <td>59.5</td>\n",
       "      <td>...</td>\n",
       "      <td>60.4</td>\n",
       "      <td>63.0</td>\n",
       "      <td>3.5</td>\n",
       "      <td>60.8</td>\n",
       "      <td>63.0</td>\n",
       "      <td>3.4</td>\n",
       "      <td>60.8</td>\n",
       "      <td>62.9</td>\n",
       "      <td>3.3</td>\n",
       "      <td>60.9</td>\n",
       "    </tr>\n",
       "    <tr>\n",
       "      <th>2</th>\n",
       "      <td>남자</td>\n",
       "      <td>70.0</td>\n",
       "      <td>4.1</td>\n",
       "      <td>67.1</td>\n",
       "      <td>70.3</td>\n",
       "      <td>3.8</td>\n",
       "      <td>67.7</td>\n",
       "      <td>70.6</td>\n",
       "      <td>4.6</td>\n",
       "      <td>67.3</td>\n",
       "      <td>...</td>\n",
       "      <td>68.7</td>\n",
       "      <td>71.8</td>\n",
       "      <td>3.7</td>\n",
       "      <td>69.2</td>\n",
       "      <td>71.6</td>\n",
       "      <td>3.3</td>\n",
       "      <td>69.2</td>\n",
       "      <td>71.3</td>\n",
       "      <td>3.4</td>\n",
       "      <td>68.9</td>\n",
       "    </tr>\n",
       "    <tr>\n",
       "      <th>3</th>\n",
       "      <td>여자</td>\n",
       "      <td>54.2</td>\n",
       "      <td>3.9</td>\n",
       "      <td>52.1</td>\n",
       "      <td>54.3</td>\n",
       "      <td>3.4</td>\n",
       "      <td>52.5</td>\n",
       "      <td>54.5</td>\n",
       "      <td>3.7</td>\n",
       "      <td>52.5</td>\n",
       "      <td>...</td>\n",
       "      <td>52.9</td>\n",
       "      <td>55.0</td>\n",
       "      <td>3.3</td>\n",
       "      <td>53.2</td>\n",
       "      <td>55.2</td>\n",
       "      <td>3.6</td>\n",
       "      <td>53.2</td>\n",
       "      <td>55.4</td>\n",
       "      <td>3.1</td>\n",
       "      <td>53</td>\n",
       "    </tr>\n",
       "  </tbody>\n",
       "</table>\n",
       "<p>4 rows × 37 columns</p>\n",
       "</div>"
      ],
      "text/plain": [
       "   성별(1) 2021. 08 2021. 08.1 2021. 08.2 2021. 09 2021. 09.1 2021. 09.2  \\\n",
       "0  성별(1)  경제활동참가율        실업률        고용률  경제활동참가율        실업률        고용률   \n",
       "1     합계     61.7        4.0       59.2     61.9        3.6       59.7   \n",
       "2     남자     70.0        4.1       67.1     70.3        3.8       67.7   \n",
       "3     여자     54.2        3.9       52.1     54.3        3.4       52.5   \n",
       "\n",
       "  2021. 10 2021. 10.1 2021. 10.2  ... 2022. 04.2 2022. 05 2022. 05.1  \\\n",
       "0  경제활동참가율        실업률        고용률  ...        고용률  경제활동참가율        실업률   \n",
       "1     62.1        4.2       59.5  ...       60.4     63.0        3.5   \n",
       "2     70.6        4.6       67.3  ...       68.7     71.8        3.7   \n",
       "3     54.5        3.7       52.5  ...       52.9     55.0        3.3   \n",
       "\n",
       "  2022. 05.2 2022. 06 2022. 06.1 2022. 06.2 2022. 07 2022. 07.1 2022. 07.2  \n",
       "0        고용률  경제활동참가율        실업률        고용률  경제활동참가율        실업률        고용률  \n",
       "1       60.8     63.0        3.4       60.8     62.9        3.3       60.9  \n",
       "2       69.2     71.6        3.3       69.2     71.3        3.4       68.9  \n",
       "3       53.2     55.2        3.6       53.2     55.4        3.1         53  \n",
       "\n",
       "[4 rows x 37 columns]"
      ]
     },
     "execution_count": 20,
     "metadata": {},
     "output_type": "execute_result"
    }
   ],
   "source": [
    "# 옵션 encoding='CP949' 추가\n",
    "pd.read_csv('data/고용지표_20221115084415.csv', encoding='CP949')"
   ]
  },
  {
   "cell_type": "code",
   "execution_count": 21,
   "id": "ffba3125",
   "metadata": {},
   "outputs": [
    {
     "data": {
      "text/html": [
       "<div>\n",
       "<style scoped>\n",
       "    .dataframe tbody tr th:only-of-type {\n",
       "        vertical-align: middle;\n",
       "    }\n",
       "\n",
       "    .dataframe tbody tr th {\n",
       "        vertical-align: top;\n",
       "    }\n",
       "\n",
       "    .dataframe thead tr th {\n",
       "        text-align: left;\n",
       "    }\n",
       "</style>\n",
       "<table border=\"1\" class=\"dataframe\">\n",
       "  <thead>\n",
       "    <tr>\n",
       "      <th>성별(1)</th>\n",
       "      <th colspan=\"3\" halign=\"left\">2021. 08</th>\n",
       "      <th colspan=\"3\" halign=\"left\">2021. 09</th>\n",
       "      <th colspan=\"3\" halign=\"left\">2021. 10</th>\n",
       "      <th>2021. 11</th>\n",
       "      <th>...</th>\n",
       "      <th>2022. 04</th>\n",
       "      <th colspan=\"3\" halign=\"left\">2022. 05</th>\n",
       "      <th colspan=\"3\" halign=\"left\">2022. 06</th>\n",
       "      <th colspan=\"3\" halign=\"left\">2022. 07</th>\n",
       "    </tr>\n",
       "    <tr>\n",
       "      <th>성별(1)</th>\n",
       "      <th>경제활동참가율</th>\n",
       "      <th>실업률</th>\n",
       "      <th>고용률</th>\n",
       "      <th>경제활동참가율</th>\n",
       "      <th>실업률</th>\n",
       "      <th>고용률</th>\n",
       "      <th>경제활동참가율</th>\n",
       "      <th>실업률</th>\n",
       "      <th>고용률</th>\n",
       "      <th>경제활동참가율</th>\n",
       "      <th>...</th>\n",
       "      <th>고용률</th>\n",
       "      <th>경제활동참가율</th>\n",
       "      <th>실업률</th>\n",
       "      <th>고용률</th>\n",
       "      <th>경제활동참가율</th>\n",
       "      <th>실업률</th>\n",
       "      <th>고용률</th>\n",
       "      <th>경제활동참가율</th>\n",
       "      <th>실업률</th>\n",
       "      <th>고용률</th>\n",
       "    </tr>\n",
       "  </thead>\n",
       "  <tbody>\n",
       "    <tr>\n",
       "      <th>합계</th>\n",
       "      <td>61.7</td>\n",
       "      <td>4.0</td>\n",
       "      <td>59.2</td>\n",
       "      <td>61.9</td>\n",
       "      <td>3.6</td>\n",
       "      <td>59.7</td>\n",
       "      <td>62.1</td>\n",
       "      <td>4.2</td>\n",
       "      <td>59.5</td>\n",
       "      <td>62.5</td>\n",
       "      <td>...</td>\n",
       "      <td>60.4</td>\n",
       "      <td>63.0</td>\n",
       "      <td>3.5</td>\n",
       "      <td>60.8</td>\n",
       "      <td>63.0</td>\n",
       "      <td>3.4</td>\n",
       "      <td>60.8</td>\n",
       "      <td>62.9</td>\n",
       "      <td>3.3</td>\n",
       "      <td>60.9</td>\n",
       "    </tr>\n",
       "    <tr>\n",
       "      <th>남자</th>\n",
       "      <td>70.0</td>\n",
       "      <td>4.1</td>\n",
       "      <td>67.1</td>\n",
       "      <td>70.3</td>\n",
       "      <td>3.8</td>\n",
       "      <td>67.7</td>\n",
       "      <td>70.6</td>\n",
       "      <td>4.6</td>\n",
       "      <td>67.3</td>\n",
       "      <td>71.2</td>\n",
       "      <td>...</td>\n",
       "      <td>68.7</td>\n",
       "      <td>71.8</td>\n",
       "      <td>3.7</td>\n",
       "      <td>69.2</td>\n",
       "      <td>71.6</td>\n",
       "      <td>3.3</td>\n",
       "      <td>69.2</td>\n",
       "      <td>71.3</td>\n",
       "      <td>3.4</td>\n",
       "      <td>68.9</td>\n",
       "    </tr>\n",
       "    <tr>\n",
       "      <th>여자</th>\n",
       "      <td>54.2</td>\n",
       "      <td>3.9</td>\n",
       "      <td>52.1</td>\n",
       "      <td>54.3</td>\n",
       "      <td>3.4</td>\n",
       "      <td>52.5</td>\n",
       "      <td>54.5</td>\n",
       "      <td>3.7</td>\n",
       "      <td>52.5</td>\n",
       "      <td>54.6</td>\n",
       "      <td>...</td>\n",
       "      <td>52.9</td>\n",
       "      <td>55.0</td>\n",
       "      <td>3.3</td>\n",
       "      <td>53.2</td>\n",
       "      <td>55.2</td>\n",
       "      <td>3.6</td>\n",
       "      <td>53.2</td>\n",
       "      <td>55.4</td>\n",
       "      <td>3.1</td>\n",
       "      <td>53.0</td>\n",
       "    </tr>\n",
       "  </tbody>\n",
       "</table>\n",
       "<p>3 rows × 36 columns</p>\n",
       "</div>"
      ],
      "text/plain": [
       "성별(1) 2021. 08            2021. 09            2021. 10            2021. 11  \\\n",
       "성별(1)  경제활동참가율  실업률   고용률  경제활동참가율  실업률   고용률  경제활동참가율  실업률   고용률  경제활동참가율   \n",
       "합계        61.7  4.0  59.2     61.9  3.6  59.7     62.1  4.2  59.5     62.5   \n",
       "남자        70.0  4.1  67.1     70.3  3.8  67.7     70.6  4.6  67.3     71.2   \n",
       "여자        54.2  3.9  52.1     54.3  3.4  52.5     54.5  3.7  52.5     54.6   \n",
       "\n",
       "성별(1)  ... 2022. 04 2022. 05            2022. 06            2022. 07       \\\n",
       "성별(1)  ...      고용률  경제활동참가율  실업률   고용률  경제활동참가율  실업률   고용률  경제활동참가율  실업률   \n",
       "합계     ...     60.4     63.0  3.5  60.8     63.0  3.4  60.8     62.9  3.3   \n",
       "남자     ...     68.7     71.8  3.7  69.2     71.6  3.3  69.2     71.3  3.4   \n",
       "여자     ...     52.9     55.0  3.3  53.2     55.2  3.6  53.2     55.4  3.1   \n",
       "\n",
       "성별(1)        \n",
       "성별(1)   고용률  \n",
       "합계     60.9  \n",
       "남자     68.9  \n",
       "여자     53.0  \n",
       "\n",
       "[3 rows x 36 columns]"
      ]
     },
     "execution_count": 21,
     "metadata": {},
     "output_type": "execute_result"
    }
   ],
   "source": [
    "# index, header 지정\n",
    "pd.read_csv('data/고용지표_20221115084415.csv', encoding='CP949', index_col=0, header=[0,1])"
   ]
  },
  {
   "cell_type": "markdown",
   "id": "b9872636",
   "metadata": {},
   "source": [
    "<br>\n",
    "\n",
    "\n",
    "### 1.3. Excel 파일 불러오기  \n",
    "\n",
    "`Excel` 파일은 구버전의 **xls**와 새로운 버전의 **xlsx**로 구분하며 추가 라이브러리 `xlrd`와 `openpyxl` 설치 필수\n",
    " 이후 pandas의 `read_excel( )`을 사용 가능 \n",
    " > pandas 1.3 이전 버전에서는 **xlsx** 파일을 불러올 때 함수 안에 `, engine='openpyxl'`를 추가해야할 수도 있습니다."
   ]
  },
  {
   "cell_type": "code",
   "execution_count": 22,
   "id": "bcd317d2",
   "metadata": {},
   "outputs": [
    {
     "data": {
      "text/html": [
       "<div>\n",
       "<style scoped>\n",
       "    .dataframe tbody tr th:only-of-type {\n",
       "        vertical-align: middle;\n",
       "    }\n",
       "\n",
       "    .dataframe tbody tr th {\n",
       "        vertical-align: top;\n",
       "    }\n",
       "\n",
       "    .dataframe thead th {\n",
       "        text-align: right;\n",
       "    }\n",
       "</style>\n",
       "<table border=\"1\" class=\"dataframe\">\n",
       "  <thead>\n",
       "    <tr style=\"text-align: right;\">\n",
       "      <th></th>\n",
       "      <th>ID</th>\n",
       "      <th>Var1</th>\n",
       "      <th>Var2</th>\n",
       "      <th>Var3</th>\n",
       "    </tr>\n",
       "  </thead>\n",
       "  <tbody>\n",
       "    <tr>\n",
       "      <th>0</th>\n",
       "      <td>1</td>\n",
       "      <td>11</td>\n",
       "      <td>45</td>\n",
       "      <td>75</td>\n",
       "    </tr>\n",
       "    <tr>\n",
       "      <th>1</th>\n",
       "      <td>2</td>\n",
       "      <td>54</td>\n",
       "      <td>32</td>\n",
       "      <td>34</td>\n",
       "    </tr>\n",
       "    <tr>\n",
       "      <th>2</th>\n",
       "      <td>4</td>\n",
       "      <td>65</td>\n",
       "      <td>43</td>\n",
       "      <td>54</td>\n",
       "    </tr>\n",
       "  </tbody>\n",
       "</table>\n",
       "</div>"
      ],
      "text/plain": [
       "   ID  Var1  Var2  Var3\n",
       "0   1    11    45    75\n",
       "1   2    54    32    34\n",
       "2   4    65    43    54"
      ]
     },
     "execution_count": 22,
     "metadata": {},
     "output_type": "execute_result"
    }
   ],
   "source": [
    "# 무난한 첫번째 시트 데이터 불러오기\n",
    "sheet1 = pd.read_excel('./data/test.xlsx')\n",
    "sheet1"
   ]
  },
  {
   "cell_type": "code",
   "execution_count": 28,
   "id": "903d99a7",
   "metadata": {},
   "outputs": [
    {
     "data": {
      "text/html": [
       "<div>\n",
       "<style scoped>\n",
       "    .dataframe tbody tr th:only-of-type {\n",
       "        vertical-align: middle;\n",
       "    }\n",
       "\n",
       "    .dataframe tbody tr th {\n",
       "        vertical-align: top;\n",
       "    }\n",
       "\n",
       "    .dataframe thead th {\n",
       "        text-align: right;\n",
       "    }\n",
       "</style>\n",
       "<table border=\"1\" class=\"dataframe\">\n",
       "  <thead>\n",
       "    <tr style=\"text-align: right;\">\n",
       "      <th></th>\n",
       "      <th>이름</th>\n",
       "      <th>나이</th>\n",
       "      <th>키</th>\n",
       "    </tr>\n",
       "  </thead>\n",
       "  <tbody>\n",
       "    <tr>\n",
       "      <th>0</th>\n",
       "      <td>민서</td>\n",
       "      <td>20</td>\n",
       "      <td>160</td>\n",
       "    </tr>\n",
       "    <tr>\n",
       "      <th>1</th>\n",
       "      <td>민준</td>\n",
       "      <td>21</td>\n",
       "      <td>175</td>\n",
       "    </tr>\n",
       "  </tbody>\n",
       "</table>\n",
       "</div>"
      ],
      "text/plain": [
       "   이름  나이    키\n",
       "0  민서  20  160\n",
       "1  민준  21  175"
      ]
     },
     "execution_count": 28,
     "metadata": {},
     "output_type": "execute_result"
    }
   ],
   "source": [
    "# 시트 번호 지정하고 2줄 무시하기\n",
    "sheet2 = pd.read_excel('data/test.xlsx', sheet_name=1, skiprows=2)\n",
    "sheet2\n",
    "    ## sheet_name : 시트 이름이나 번호 지정, 번호는 0부터 시작\n",
    "    ## skiprows   : 무시할 행 수\n"
   ]
  },
  {
   "cell_type": "code",
   "execution_count": 31,
   "id": "1c8f32df",
   "metadata": {},
   "outputs": [
    {
     "data": {
      "text/html": [
       "<div>\n",
       "<style scoped>\n",
       "    .dataframe tbody tr th:only-of-type {\n",
       "        vertical-align: middle;\n",
       "    }\n",
       "\n",
       "    .dataframe tbody tr th {\n",
       "        vertical-align: top;\n",
       "    }\n",
       "\n",
       "    .dataframe thead th {\n",
       "        text-align: right;\n",
       "    }\n",
       "</style>\n",
       "<table border=\"1\" class=\"dataframe\">\n",
       "  <thead>\n",
       "    <tr style=\"text-align: right;\">\n",
       "      <th></th>\n",
       "      <th>0</th>\n",
       "      <th>1</th>\n",
       "    </tr>\n",
       "  </thead>\n",
       "  <tbody>\n",
       "    <tr>\n",
       "      <th>0</th>\n",
       "      <td>2015</td>\n",
       "      <td>32</td>\n",
       "    </tr>\n",
       "    <tr>\n",
       "      <th>1</th>\n",
       "      <td>2016</td>\n",
       "      <td>34</td>\n",
       "    </tr>\n",
       "    <tr>\n",
       "      <th>2</th>\n",
       "      <td>2017</td>\n",
       "      <td>-</td>\n",
       "    </tr>\n",
       "  </tbody>\n",
       "</table>\n",
       "</div>"
      ],
      "text/plain": [
       "      0   1\n",
       "0  2015  32\n",
       "1  2016  34\n",
       "2  2017   -"
      ]
     },
     "execution_count": 31,
     "metadata": {},
     "output_type": "execute_result"
    }
   ],
   "source": [
    "# 첫 행부터 데이터가 시작되는 데이터 불러오기\n",
    "sheet3 = pd.read_excel('data/test.xlsx', sheet_name=2, header=None)\n",
    "sheet3\n",
    "    ## header : 첫 행에 변수이름이 저장되었는지 여부\n"
   ]
  },
  {
   "cell_type": "code",
   "execution_count": 32,
   "id": "52e9d7ad",
   "metadata": {},
   "outputs": [
    {
     "data": {
      "text/html": [
       "<div>\n",
       "<style scoped>\n",
       "    .dataframe tbody tr th:only-of-type {\n",
       "        vertical-align: middle;\n",
       "    }\n",
       "\n",
       "    .dataframe tbody tr th {\n",
       "        vertical-align: top;\n",
       "    }\n",
       "\n",
       "    .dataframe thead th {\n",
       "        text-align: right;\n",
       "    }\n",
       "</style>\n",
       "<table border=\"1\" class=\"dataframe\">\n",
       "  <thead>\n",
       "    <tr style=\"text-align: right;\">\n",
       "      <th></th>\n",
       "      <th>년도</th>\n",
       "      <th>건수</th>\n",
       "    </tr>\n",
       "  </thead>\n",
       "  <tbody>\n",
       "    <tr>\n",
       "      <th>0</th>\n",
       "      <td>2015</td>\n",
       "      <td>32</td>\n",
       "    </tr>\n",
       "    <tr>\n",
       "      <th>1</th>\n",
       "      <td>2016</td>\n",
       "      <td>34</td>\n",
       "    </tr>\n",
       "    <tr>\n",
       "      <th>2</th>\n",
       "      <td>2017</td>\n",
       "      <td>-</td>\n",
       "    </tr>\n",
       "  </tbody>\n",
       "</table>\n",
       "</div>"
      ],
      "text/plain": [
       "     년도  건수\n",
       "0  2015  32\n",
       "1  2016  34\n",
       "2  2017   -"
      ]
     },
     "execution_count": 32,
     "metadata": {},
     "output_type": "execute_result"
    }
   ],
   "source": [
    "# 첫 행부터 데이터가 시작되는 데이터 불러오면서 변수 이름 지정하기\n",
    "sheet3 = pd.read_excel('data/test.xlsx', sheet_name=2, header=None, names=['년도','건수'])\n",
    "sheet3\n"
   ]
  },
  {
   "cell_type": "code",
   "execution_count": null,
   "id": "a12778be",
   "metadata": {},
   "outputs": [],
   "source": [
    "# 결측 저장값 지정하기\n",
    "sheet3 = pd.read_excel('data/test.xlsx', sheet_name=2, header=None, names=['년도','건수'], na_values='-')\n",
    "sheet3\n",
    "    ## NaN : 결측값"
   ]
  },
  {
   "cell_type": "markdown",
   "id": "4f1d2926",
   "metadata": {},
   "source": [
    "\n",
    "<br>  \n",
    "\n",
    "####  [실습] 아래의 사이트에서 관심있는 데이터를 탐색하기\n",
    "\n",
    "* csv 파일 중 인코딩 관련 에러가 발생할 경우 read_csv( )안에서 `encoding='CP949'` 옵션 추가\n",
    "* xlsx의 경우 다운로드한 파일을 열어서 읽기 전용을 해제해야 할 수도 있음\n",
    "\n",
    "\n",
    "\n",
    "[공공데이터포털](https://www.data.go.kr/index.do)\n",
    "\n",
    "[서울 열린데이터 광장](http://data.seoul.go.kr/)\n",
    "\n",
    "[Dacon](https://dacon.io/)\n",
    "\n",
    "\n",
    "\n"
   ]
  },
  {
   "cell_type": "code",
   "execution_count": null,
   "id": "f64ae53f",
   "metadata": {},
   "outputs": [],
   "source": []
  },
  {
   "cell_type": "code",
   "execution_count": null,
   "id": "9ef0c035",
   "metadata": {},
   "outputs": [],
   "source": []
  },
  {
   "cell_type": "code",
   "execution_count": null,
   "id": "615e9904",
   "metadata": {},
   "outputs": [],
   "source": []
  },
  {
   "cell_type": "markdown",
   "id": "0ce52744",
   "metadata": {},
   "source": [
    "## 2.  DRM 보안 적용된 Excel 파일 불러오기\n",
    "\n"
   ]
  },
  {
   "cell_type": "markdown",
   "id": "546a6f71",
   "metadata": {},
   "source": [
    "### 2.1. pywin32 활용"
   ]
  },
  {
   "cell_type": "code",
   "execution_count": null,
   "id": "a4612ef3",
   "metadata": {
    "scrolled": true
   },
   "outputs": [],
   "source": [
    "import pandas as pd\n",
    "import win32com.client as win32\n",
    "import os \n",
    "\n",
    "# Excel 실행\n",
    "excel=win32.Dispatch('Excel.Application')   \n",
    "\n",
    "# 경로 지정 및 파일 열기\n",
    "filepath = os.getcwd() +'\\\\data\\\\test.xlsx'\n",
    "wb = excel.Workbooks.Open(filepath)\n",
    "\n",
    "filepath"
   ]
  },
  {
   "cell_type": "code",
   "execution_count": null,
   "id": "51d01ec5",
   "metadata": {},
   "outputs": [],
   "source": [
    "# Sheet 지정\n",
    "ws = wb.Worksheets(1) \n",
    "\n",
    "# 전체 행, 열 수 확인\n",
    "nRow = ws.UsedRange.Rows.Count \n",
    "nColumn = ws.UsedRange.Columns.Count \n",
    "\n",
    "# 불러올 범위 지정\n",
    "listValue = ws.Range(ws.Cells(1,1) , ws.Cells(nRow,nColumn)).Value\n",
    "pd.DataFrame(listValue[1:] , columns=listValue[0]) "
   ]
  },
  {
   "cell_type": "code",
   "execution_count": null,
   "id": "9e9b93a1",
   "metadata": {},
   "outputs": [],
   "source": [
    "# Excel 종료\n",
    "excel.Quit()     "
   ]
  },
  {
   "cell_type": "markdown",
   "id": "ce8017d6",
   "metadata": {},
   "source": [
    "<br>\n",
    "\n",
    "한번에 실행"
   ]
  },
  {
   "cell_type": "code",
   "execution_count": null,
   "id": "a56414c9",
   "metadata": {},
   "outputs": [],
   "source": [
    "import pandas as pd\n",
    "import win32com.client as win32\n",
    "import os \n",
    "\n",
    "# Excel 실행\n",
    "excel=win32.Dispatch('Excel.Application')   \n",
    "\n",
    "# 경로 지정 및 파일 열기\n",
    "filepath = os.getcwd() +'/data/test.xlsx'\n",
    "wb = excel.Workbooks.Open(filepath)\n",
    "\n",
    "# Sheet 지정\n",
    "ws = wb.Worksheets(1) \n",
    "\n",
    "# 전체 행, 열 수 확인\n",
    "nRow = ws.UsedRange.Rows.Count \n",
    "nColumn = ws.UsedRange.Columns.Count \n",
    "\n",
    "# 불러올 범위 지정\n",
    "listValue = ws.Range(ws.Cells(1,1) , ws.Cells(nRow,nColumn)).Value\n",
    "df_drm = pd.DataFrame(listValue[1:] , columns=listValue[0]) \n",
    "\n",
    "excel.Quit()     \n",
    "\n",
    "df_drm"
   ]
  },
  {
   "cell_type": "markdown",
   "id": "3224ca72",
   "metadata": {},
   "source": [
    "<br>\n",
    "<br>\n",
    "\n",
    "### 2.2. xlwings 라이브러리 활용\n",
    "\n",
    "+ 장점: VBA 연동 가능"
   ]
  },
  {
   "cell_type": "code",
   "execution_count": null,
   "id": "92111d4e",
   "metadata": {},
   "outputs": [],
   "source": [
    "# 라이브러리 설치\n",
    "# !pip install xlwings "
   ]
  },
  {
   "cell_type": "code",
   "execution_count": null,
   "id": "6cc27a98",
   "metadata": {},
   "outputs": [],
   "source": [
    "# 라이브러리 불러오기\n",
    "import xlwings as xw\n",
    "import pandas as pd\n",
    "import os"
   ]
  },
  {
   "cell_type": "code",
   "execution_count": null,
   "id": "ad67d74e",
   "metadata": {},
   "outputs": [],
   "source": [
    "# Excel 파일 열기\n",
    "# filepath = os.getcwd() +'/data/test.xlsx'\n",
    "book = xw.Book('./data/test.xlsx')"
   ]
  },
  {
   "cell_type": "code",
   "execution_count": null,
   "id": "3fce4b13",
   "metadata": {},
   "outputs": [],
   "source": [
    "# Sheet 선택\n",
    "sheet = book.sheets[0]    \n",
    "\n",
    "# 전체 데이터 데이터 불러오기\n",
    "df_drm = sheet.used_range.options(pd.DataFrame, index = False).value\n",
    "df_drm\n"
   ]
  },
  {
   "cell_type": "code",
   "execution_count": null,
   "id": "4e92feb8",
   "metadata": {},
   "outputs": [],
   "source": [
    "# 특정 부분만 불러오기\n",
    "sheet = book.sheets[1]    \n",
    "df_drm = sheet.range(\"A3:C5\").options(pd.DataFrame, index = False).value\n",
    "df_drm"
   ]
  },
  {
   "cell_type": "code",
   "execution_count": null,
   "id": "609bb528",
   "metadata": {},
   "outputs": [],
   "source": [
    "# 종료\n",
    "xw.apps.active.quit()"
   ]
  },
  {
   "cell_type": "markdown",
   "id": "3a9931ba",
   "metadata": {},
   "source": [
    "#### End of script"
   ]
  }
 ],
 "metadata": {
  "kernelspec": {
   "display_name": "Python 3 (ipykernel)",
   "language": "python",
   "name": "python3"
  },
  "language_info": {
   "codemirror_mode": {
    "name": "ipython",
    "version": 3
   },
   "file_extension": ".py",
   "mimetype": "text/x-python",
   "name": "python",
   "nbconvert_exporter": "python",
   "pygments_lexer": "ipython3",
   "version": "3.10.9"
  }
 },
 "nbformat": 4,
 "nbformat_minor": 5
}
